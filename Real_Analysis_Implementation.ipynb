{
 "cells": [
  {
   "cell_type": "code",
   "execution_count": 1,
   "id": "a64a9089-6b57-4842-b0ee-30c89801970b",
   "metadata": {},
   "outputs": [],
   "source": [
    "import numpy as np\n",
    "from scipy.special import expit\n",
    "from evaluator_Linear import evaluator\n",
    "from probLearner import PMLearner, RewardLearner, PALearner\n",
    "from ratioLearner import  RatioLinearLearner as RatioLearner\n",
    "from qLearner_Linear import Qlearner"
   ]
  },
  {
   "cell_type": "markdown",
   "id": "5990b442-7e34-4c1b-a7e8-b7f43bc52e66",
   "metadata": {},
   "source": [
    "## STEP0： Define the Target Policy and the Control Policy\n",
    "\n",
    "Modify the Policy.py file accordingly"
   ]
  },
  {
   "cell_type": "code",
   "execution_count": 2,
   "id": "e3fdbca5-1084-4af4-a243-aaa949f86b34",
   "metadata": {},
   "outputs": [],
   "source": [
    "from Policy import target_policy, control_policy"
   ]
  },
  {
   "cell_type": "markdown",
   "id": "57003822-e3e7-4a51-8a9b-654f7b315693",
   "metadata": {},
   "source": [
    "## STEP1: prepare the dataset\n",
    "\n",
    "The following is an example of a proper input dataset with 2 trajectories and 3 observations for each trajectory, which is a dictionary with keys:\n",
    "- s0: stacked initial states of all the trajectories, initial state, 2d-array\n",
    "- state: stacked states of all the trajectories at all time points, 2d-array\n",
    "- action: stacked sequence of actions for all trajectories at all time points, 1d-array\n",
    "- mediator: stacked mediators of all the trajectories at all time points, 2d-array\n",
    "- reward: stacked sequence of rewards for all trajectories at all time points, 1d-array\n",
    "- next_state: stacked next_states of all the trajectories at all time points, 2d-array"
   ]
  },
  {
   "cell_type": "code",
   "execution_count": 11,
   "id": "fc7b285f-7464-49b3-a921-35a119505d1f",
   "metadata": {},
   "outputs": [
    {
     "data": {
      "text/plain": [
       "{'s0': array([[ 1.76405235,  0.40015721,  0.97873798],\n",
       "        [-0.18158257,  1.41020463, -0.37447169]]),\n",
       " 'state': array([[ 1.76405235,  0.40015721,  0.97873798],\n",
       "        [ 2.42993277, -0.32779064, 12.83547844],\n",
       "        [ 1.4532285 , -1.75914681, 23.4816176 ],\n",
       "        [-0.18158257,  1.41020463, -0.37447169],\n",
       "        [ 1.47498535, -1.33984802,  4.4633054 ],\n",
       "        [-0.04107094,  0.74313238,  7.3301179 ]]),\n",
       " 'action': array([0., 1., 1., 1., 0., 1.]),\n",
       " 'mediator': array([[ 2.42993277, -0.32779064],\n",
       "        [ 1.4532285 , -1.75914681],\n",
       "        [ 1.89892964, -3.8330894 ],\n",
       "        [ 1.47498535, -1.33984802],\n",
       "        [-0.04107094,  0.74313238],\n",
       "        [ 1.14614205,  0.18356083]]),\n",
       " 'reward': array([12.83547844, 23.4816176 , 32.8543457 ,  4.4633054 ,  7.3301179 ,\n",
       "        19.61499902]),\n",
       " 'next_state': array([[ 2.42993277, -0.32779064, 12.83547844],\n",
       "        [ 1.4532285 , -1.75914681, 23.4816176 ],\n",
       "        [ 1.89892964, -3.8330894 , 32.8543457 ],\n",
       "        [ 1.47498535, -1.33984802,  4.4633054 ],\n",
       "        [-0.04107094,  0.74313238,  7.3301179 ],\n",
       "        [ 1.14614205,  0.18356083, 19.61499902]])}"
      ]
     },
     "execution_count": 11,
     "metadata": {},
     "output_type": "execute_result"
    }
   ],
   "source": [
    "#from Simulator import Simulator\n",
    "#dim_state=3; dim_mediator = 2\n",
    "#simulator = Simulator(model_type='Gaussian_semi', dim_state=dim_state, dim_mediator = dim_mediator)\n",
    "#simulator.sample_trajectory(num_trajectory=2, num_time=3, seed=0)\n",
    "#simulator.trajectory2iid()\n",
    "#sim_iid_dataset = simulator.iid_dataset\n",
    "#dataset = sim_iid_dataset\n",
    "#dataset"
   ]
  },
  {
   "cell_type": "markdown",
   "id": "95895c5c-bdbb-474d-8c57-720b7b7de20c",
   "metadata": {},
   "source": [
    "## STEP2: Modify the hyper-parameters"
   ]
  },
  {
   "cell_type": "code",
   "execution_count": 8,
   "id": "f814d1ed-fe4b-4c3c-9569-c03b431b290d",
   "metadata": {},
   "outputs": [],
   "source": [
    "#Fixed hyper-parameter--no need to modify\n",
    "expectation_MCMC_iter = 100\n",
    "expectation_MCMC_iter_Q3 = expectation_MCMC_iter_Q_diff = 50\n",
    "truncate = 100\n",
    "problearner_parameters = {\"splitter\":[\"best\",\"random\"], \"max_depth\" : range(1,40)},\n",
    "\n",
    "#hyperparameters that need modification\n",
    "#dim_state = the dimension of the state variable\n",
    "#dim_meditor = the dimension of the mediator variable\n",
    "#ratio_ndim = number of features used to learn the ratio model # can be modified accordingly \n",
    "                #to learn how the ratio_ndim affect the estimation performance\n",
    "dim_state=3; dim_mediator = 2\n",
    "ratio_ndim = 15"
   ]
  },
  {
   "cell_type": "markdown",
   "id": "f3d8e5e1-b6cd-4503-a032-b0fee8833112",
   "metadata": {},
   "source": [
    "## STEP3: Causal Effect Estimation"
   ]
  },
  {
   "cell_type": "code",
   "execution_count": null,
   "id": "6adad2f5-1d07-4724-9c54-cb6b4c3a43aa",
   "metadata": {},
   "outputs": [],
   "source": [
    "est_obj1 = evaluator(dataset, Qlearner, PMLearner, RewardLearner, PALearner, RatioLearner,\n",
    "                     target_policy=target_policy, control_policy = control_policy, dim_state = dim_state,\n",
    "                     dim_mediator = dim_mediator, scaler = 'Identity', problearner_parameters = problearner_parameters,\n",
    "                     expectation_MCMC_iter = expectation_MCMC_iter, expectation_MCMC_iter_Q3 = expectation_MCMC_iter_Q3, \n",
    "                     expectation_MCMC_iter_Q_diff = expectation_MCMC_iter_Q_diff,\n",
    "                     ratio_ndim = ratio_ndim, truncate = truncate, \n",
    "                     seed = 10)\n",
    "\n",
    "est_obj1.estimate_DE_ME_SE()\n",
    "est_value1 = est_obj1.est_DEMESE\n",
    "var_value1 = est_obj1.var_DEMESE\n",
    "\n",
    "\n",
    "#The following are the estimations of our interest\n",
    "\n",
    "#1. estimation used the proposed triply robust estimator\n",
    "DE_TR, ME_TR, SE_TR = est_value1[:3]\n",
    "\n",
    "#2. estimation used the direct estimator of etas\n",
    "DE_Direct, ME_Direct, SE_Direct = est_value1[3:6]\n",
    "\n",
    "#3. estimation used the baseline method\n",
    "DE_base, ME_base = est_value1[6:8]\n",
    "SE_base= np.nan"
   ]
  }
 ],
 "metadata": {
  "kernelspec": {
   "display_name": "Python 3 (ipykernel)",
   "language": "python",
   "name": "python3"
  },
  "language_info": {
   "codemirror_mode": {
    "name": "ipython",
    "version": 3
   },
   "file_extension": ".py",
   "mimetype": "text/x-python",
   "name": "python",
   "nbconvert_exporter": "python",
   "pygments_lexer": "ipython3",
   "version": "3.9.7"
  }
 },
 "nbformat": 4,
 "nbformat_minor": 5
}
