{
 "cells": [
  {
   "cell_type": "markdown",
   "metadata": {},
   "source": [
    "# Toy Example\n",
    "\n",
    "## Settings for i.i.d case\n",
    "\n",
    "\\begin{align}\n",
    "    S_{0}&\\sim Bernoulli(0.5)\\\\\n",
    "    M_{t}&\\sim Bernoulli(expit(1.0-1.5S_{t}+2.5A_{t}))\\\\\n",
    "    R_{t}&\\sim Bernoulli(expit(1.0+2S_{t}-1A_{t}-2.5M_{t}))\\\\\n",
    "    S_{t+1}&\\sim Bernoulli(.2)\\\\\n",
    "    \\pi_{b}&\\sim Bernoulli(expit(1.0-2.0S{t}))\\\\\n",
    "    \\pi_{e}&\\sim Bernoulli(expit(1.5+1.0S{t}))\\\\\n",
    "    a_0&=0\n",
    "\\end{align}"
   ]
  },
  {
   "cell_type": "code",
   "execution_count": 3,
   "metadata": {},
   "outputs": [
    {
     "data": {
      "text/plain": [
       "0.2689414213699951"
      ]
     },
     "execution_count": 3,
     "metadata": {},
     "output_type": "execute_result"
    }
   ],
   "source": [
    "        from scipy.special import expit\n",
    "        pa = 1.0-2\n",
    "        #pa = 1.0\n",
    "        pa = expit(pa)\n",
    "        pa"
   ]
  },
  {
   "cell_type": "markdown",
   "metadata": {},
   "source": [
    "## True Q & True etas"
   ]
  },
  {
   "cell_type": "code",
   "execution_count": 4,
   "metadata": {},
   "outputs": [],
   "source": [
    "def target_policy(state, action = None, matrix_based = False):\n",
    "    if matrix_based:\n",
    "        state1 = np.copy(state).flatten()\n",
    "        pa = expit(1.5 + 1.0 * state1)\n",
    "        if action is not None:\n",
    "            action1 = np.copy(action).flatten()\n",
    "            pa = pa * action1 + (1-pa) * (1-action1)\n",
    "    else:\n",
    "        pa = 1.5 + 1.0 * np.sum(state)\n",
    "        pa = expit(pa)\n",
    "        pa = np.random.binomial(n=1, p=pa, size=1)\n",
    "    return pa\n",
    "    \n",
    "def toy_sa2mediator_model(state, action, matrix_based = False):\n",
    "    if matrix_based:\n",
    "        state1 = np.copy(state).flatten()\n",
    "        action1 = np.copy(action).flatten()\n",
    "        pm =  1.0 - 1.5 * state1 + 2.5 * action1\n",
    "        pm = expit(pm)\n",
    "    else:\n",
    "        pm = 1.0 - 1.5 * state + 2.5 * action\n",
    "        pm = expit(pm)\n",
    "        pm = np.random.binomial(n=1, p=pm, size=1)\n",
    "    return pm\n",
    "\n",
    "def pmlearner(state, action, mediator):\n",
    "    pm_one = toy_sa2mediator_model(state, action=action, matrix_based = True).flatten() \n",
    "    pm = mediator * pm_one + (1 - mediator) * (1 - pm_one)\n",
    "    return pm\n",
    "\n",
    "def control_policy(state = None, action=None, get_a = False, matrix_based=False):\n",
    "    # fixed policy with fixed action 0\n",
    "    if get_a:\n",
    "        action_value = 0\n",
    "        \n",
    "    elif matrix_based:\n",
    "        action1 = np.copy(action).flatten()\n",
    "        action_value = 1 - action1 ###for a0 = 0 only\n",
    "        \n",
    "    else:\n",
    "        if action is None:\n",
    "            action_value = 0 \n",
    "        else:\n",
    "            if action == 0:\n",
    "                action_value = 1\n",
    "            else:\n",
    "                action_value = 0\n",
    "    return action_value\n",
    "\n",
    "def toy_sam2reward_model(state, action, mediator, random = None, matrix_based = False):\n",
    "        if matrix_based:\n",
    "            #print(\"matrix\")\n",
    "            state1 = np.copy(state).flatten()\n",
    "            action1 = np.copy(action).flatten()\n",
    "            mediator1 = np.copy(mediator).flatten()\n",
    "            rmean = 1.0 + 2 * state1 - 1 * action1 -  2.5 * mediator1\n",
    "            #rmean = 1.0 * np.ones(shape = state1.shape[0])\n",
    "            rmean = expit(rmean)\n",
    "            if random is None:\n",
    "                rmean *= 10\n",
    "                reward = rmean\n",
    "            else:\n",
    "                print(\"wrong\")\n",
    "        else:\n",
    "            rmean = 1.0 + 2 * state - 1 * action -  2.5 * mediator\n",
    "            #rmean = 1.0\n",
    "            rmean = expit(rmean)\n",
    "            if random:\n",
    "                reward = np.random.binomial(n=1, p=rmean, size=1) * 10\n",
    "            else:\n",
    "                rmean *= 10\n",
    "                reward = rmean\n",
    "        return reward"
   ]
  },
  {
   "cell_type": "code",
   "execution_count": 5,
   "metadata": {},
   "outputs": [],
   "source": [
    "###true without estimating etas\n",
    "from tqdm import tqdm\n",
    "import pickle\n",
    "import numpy as np\n",
    "from scipy.special import expit\n",
    "from multiprocessing import Pool\n",
    "import Policy as policy\n",
    "import Simulator as Simulator\n",
    "import pandas as pd\n",
    "from qLearner_MC import Qlearner as Qlearner_MC\n",
    "def learnQ(Qlearner, simulator, traj,target_policy, control_policy, toy_sam2reward_model, true_etas=None):\n",
    "    q1 = Qlearner(traj, simulator, target_policy, pmlearner, toy_sam2reward_model, control_policy, Q_func = \"Q1\", true_etas=true_etas)\n",
    "    b_hat1 = q1.fit()\n",
    "    \n",
    "    q2 = Qlearner(traj, simulator, target_policy, pmlearner, toy_sam2reward_model, control_policy, Q_func = \"Q2\", true_etas=true_etas)\n",
    "    b_hat2 = q2.fit()\n",
    "    \n",
    "    q3 = Qlearner(traj, simulator, target_policy, pmlearner, toy_sam2reward_model, control_policy, Q_func = \"Q3\",true_etas=true_etas)\n",
    "    b_hat3 = q3.fit()\n",
    "    \n",
    "    #traj1 = simulator.sample_target_policy_trajectory(num_trajectory=num_trajectory, num_time=num_time,\n",
    "    #                                                 seed=seed, policy = \"control\", burn_in=False, return_trajectory=True)\n",
    "    #traj1 = simulator.trajectory2iid(trajectory = traj1)\n",
    "    \n",
    "    q4 = Qlearner(traj, simulator, control_policy, pmlearner, toy_sam2reward_model, control_policy, Q_func = \"Q4\",true_etas=true_etas)\n",
    "    b_hat4 = q4.fit()\n",
    "    out = {'b_hat1':b_hat1, 'b_hat2':b_hat2, 'b_hat3':b_hat3,'b_hat4':b_hat4, 'q1':q1, 'q2':q2, 'q3':q3,'q4':q4}\n",
    "    return out\n",
    "\n",
    "simulator = Simulator.Simulator(dim_state=1, model_type='toy_iid')\n",
    "traj = simulator.sample_trajectory(num_trajectory=200, num_time=200,\n",
    "                                                     seed=10, burn_in=False, return_trajectory=True)\n",
    "traj = simulator.trajectory2iid(trajectory = traj)\n",
    "\n",
    "out1 = learnQ(Qlearner_MC, simulator, traj, target_policy, control_policy, toy_sam2reward_model)\n",
    "#out2 = learnQ(Qlearner2, target_policy, control_policy, toy_sam2reward_model)\n",
    "\n",
    "out = []\n",
    "for b in ['b_hat1','b_hat2','b_hat3','b_hat4']:\n",
    "    out.append(out1[b])"
   ]
  },
  {
   "cell_type": "code",
   "execution_count": 6,
   "metadata": {},
   "outputs": [
    {
     "data": {
      "text/html": [
       "<div>\n",
       "<style scoped>\n",
       "    .dataframe tbody tr th:only-of-type {\n",
       "        vertical-align: middle;\n",
       "    }\n",
       "\n",
       "    .dataframe tbody tr th {\n",
       "        vertical-align: top;\n",
       "    }\n",
       "\n",
       "    .dataframe thead th {\n",
       "        text-align: right;\n",
       "    }\n",
       "</style>\n",
       "<table border=\"1\" class=\"dataframe\">\n",
       "  <thead>\n",
       "    <tr style=\"text-align: right;\">\n",
       "      <th></th>\n",
       "      <th>0</th>\n",
       "      <th>1</th>\n",
       "      <th>2</th>\n",
       "      <th>3</th>\n",
       "      <th>4</th>\n",
       "      <th>5</th>\n",
       "      <th>6</th>\n",
       "      <th>7</th>\n",
       "    </tr>\n",
       "  </thead>\n",
       "  <tbody>\n",
       "    <tr>\n",
       "      <th>Q1</th>\n",
       "      <td>2.215155</td>\n",
       "      <td>-2.310586e+00</td>\n",
       "      <td>-5.486331e+00</td>\n",
       "      <td>1.497385</td>\n",
       "      <td>-1.085992</td>\n",
       "      <td>-6.552004e+00</td>\n",
       "      <td>-3.535179</td>\n",
       "      <td>1.993334</td>\n",
       "    </tr>\n",
       "    <tr>\n",
       "      <th>Q2</th>\n",
       "      <td>2.215155</td>\n",
       "      <td>1.442402e-12</td>\n",
       "      <td>-5.486331e+00</td>\n",
       "      <td>2.215155</td>\n",
       "      <td>-1.085992</td>\n",
       "      <td>-5.486331e+00</td>\n",
       "      <td>-1.085992</td>\n",
       "      <td>3.128748</td>\n",
       "    </tr>\n",
       "    <tr>\n",
       "      <th>Q3</th>\n",
       "      <td>4.979667</td>\n",
       "      <td>-4.796163e-12</td>\n",
       "      <td>-4.831691e-12</td>\n",
       "      <td>4.979667</td>\n",
       "      <td>4.979667</td>\n",
       "      <td>-4.583001e-12</td>\n",
       "      <td>4.979667</td>\n",
       "      <td>4.295690</td>\n",
       "    </tr>\n",
       "    <tr>\n",
       "      <th>Q4</th>\n",
       "      <td>2.215155</td>\n",
       "      <td>-2.310586e+00</td>\n",
       "      <td>-5.486331e+00</td>\n",
       "      <td>1.497385</td>\n",
       "      <td>-1.085992</td>\n",
       "      <td>-6.552004e+00</td>\n",
       "      <td>-3.535179</td>\n",
       "      <td>4.295690</td>\n",
       "    </tr>\n",
       "  </tbody>\n",
       "</table>\n",
       "</div>"
      ],
      "text/plain": [
       "           0             1             2         3         4             5  \\\n",
       "Q1  2.215155 -2.310586e+00 -5.486331e+00  1.497385 -1.085992 -6.552004e+00   \n",
       "Q2  2.215155  1.442402e-12 -5.486331e+00  2.215155 -1.085992 -5.486331e+00   \n",
       "Q3  4.979667 -4.796163e-12 -4.831691e-12  4.979667  4.979667 -4.583001e-12   \n",
       "Q4  2.215155 -2.310586e+00 -5.486331e+00  1.497385 -1.085992 -6.552004e+00   \n",
       "\n",
       "           6         7  \n",
       "Q1 -3.535179  1.993334  \n",
       "Q2 -1.085992  3.128748  \n",
       "Q3  4.979667  4.295690  \n",
       "Q4 -3.535179  4.295690  "
      ]
     },
     "execution_count": 6,
     "metadata": {},
     "output_type": "execute_result"
    }
   ],
   "source": [
    "out = pd.DataFrame(out,index = ['Q1','Q2','Q3','Q4'])\n",
    "out"
   ]
  },
  {
   "cell_type": "code",
   "execution_count": 7,
   "metadata": {},
   "outputs": [
    {
     "data": {
      "text/plain": [
       "array([1.99333432, 3.12874809, 4.29569015, 4.29569015])"
      ]
     },
     "execution_count": 7,
     "metadata": {},
     "output_type": "execute_result"
    }
   ],
   "source": [
    "out.iloc[:,-1].to_numpy()"
   ]
  },
  {
   "cell_type": "markdown",
   "metadata": {},
   "source": [
    "## True DE/ME/SE"
   ]
  },
  {
   "cell_type": "code",
   "execution_count": 8,
   "metadata": {},
   "outputs": [
    {
     "data": {
      "text/plain": [
       "(-1.1354137700000002, -1.1669420600000002, 0.0)"
      ]
     },
     "execution_count": 8,
     "metadata": {},
     "output_type": "execute_result"
    }
   ],
   "source": [
    "    true_eta_pi = 1.99333432\n",
    "    true_eta_pi_a0 = 3.12874809\n",
    "    true_eta_pi_a0star = 4.29569015\n",
    "    true_eta_a0 = 4.29569015\n",
    "    DE = true_eta_pi - true_eta_pi_a0\n",
    "    ME = true_eta_pi_a0 - true_eta_pi_a0star\n",
    "    SE = true_eta_pi_a0star - true_eta_a0\n",
    "    DE,ME,SE"
   ]
  },
  {
   "cell_type": "markdown",
   "metadata": {},
   "source": [
    "## Robustness"
   ]
  },
  {
   "cell_type": "code",
   "execution_count": 15,
   "metadata": {},
   "outputs": [],
   "source": [
    "import pickle\n",
    "with open(\"Toy_2_iid.txt\", 'rb') as p:\n",
    "    Error_iid = pickle.load(p)\n",
    "with open(\"Toy_2_w_state.txt\", 'rb') as p:\n",
    "    Error_w_state = pickle.load(p)"
   ]
  },
  {
   "cell_type": "code",
   "execution_count": 16,
   "metadata": {},
   "outputs": [],
   "source": [
    "from matplotlib.transforms import BlendedGenericTransform\n",
    "import matplotlib.pyplot as plt\n",
    "import seaborn as sns\n",
    "import pandas as pd\n",
    "import numpy as np\n",
    "\n",
    "def plot(result_iid, result_w_state, x='NT'):\n",
    "    fig, ((ax1, ax2, ax3, ax4) ,(ax5, ax6,ax7,ax8)) = plt.subplots(nrows=2, ncols=4, sharex=True, sharey=False, figsize = (10,5))\n",
    "\n",
    "    COLORS = sns.color_palette(\"colorblind\")\n",
    "    palette = {'Triply-Robust' : COLORS[0],'Direct' : COLORS[1], 'Baseline': COLORS[2]}\n",
    "\n",
    "    ax1 = sns.lineplot(data=result_iid\n",
    "                         , x=x, y=\"DE_error\"\n",
    "                         , hue=\"estimand\" # group variable\n",
    "                       , style=\"estimand\" \n",
    "                        , ci = 95\n",
    "                        , err_style=\"bars\"\n",
    "                        , ax = ax1\n",
    "                        , n_boot = 20\n",
    "                        , palette = palette\n",
    "                       ,dashes=style\n",
    "                       ,linewidth = 2.0,\n",
    "                       markers = True\n",
    "                        )\n",
    "    ax1.set_title('DE (iid)')\n",
    "    ax1.axes.set_ylabel(\"bias\")\n",
    "    \n",
    "    ax2 = sns.lineplot(data=result_iid\n",
    "                         , x=x, y=\"ME_error\"\n",
    "                         , hue=\"estimand\" # group variable\n",
    "                       , style=\"estimand\" \n",
    "                        , ci = 95\n",
    "                        , err_style=\"bars\"\n",
    "                        , ax = ax2\n",
    "                        , n_boot = 20\n",
    "                        , palette = palette\n",
    "                       ,dashes=style\n",
    "                       ,linewidth = 2.0,\n",
    "                       markers = True\n",
    "                        )\n",
    "    ax2.set_title('ME (iid)')\n",
    "    ax2.set(ylabel=None)\n",
    "    \n",
    "    ax3 = sns.lineplot(data=result_w_state\n",
    "                         , x=x, y=\"DE_error\"\n",
    "                         , hue=\"estimand\" # group variable\n",
    "                       , style=\"estimand\" \n",
    "                        , ci = 95\n",
    "                        , err_style=\"bars\"\n",
    "                        , ax = ax3\n",
    "                        , n_boot = 20\n",
    "                        , palette = palette\n",
    "                       ,dashes=style\n",
    "                       ,linewidth = 2.0,\n",
    "                       markers = True\n",
    "                        )\n",
    "                             , x=x, y=\"ME_MSE\"\n",
    "                         , hue=\"estimand\"# group variable\n",
    "                        , style=\"estimand\"\n",
    "                        , ci = 95\n",
    "                        , err_style=\"bars\"\n",
    "                        , ax = ax5\n",
    "                        , n_boot = 20\n",
    "                        , palette = palette\n",
    "                       ,linewidth = 2.0\n",
    "                       ,markers = True\n",
    "    ax3.set_title('DE (with State Transition)')\n",
    "    ax3.set(ylabel=None)\n",
    "    \n",
    "    ax4 = sns.lineplot(data=result_w_state\n",
    "                         , x=x, y=\"ME_error\"\n",
    "                         , hue=\"estimand\" # group variable\n",
    "                       , style=\"estimand\" \n",
    "                        , ci = 95\n",
    "                        , err_style=\"bars\"\n",
    "                        , ax = ax4\n",
    "                        , n_boot = 20\n",
    "                        , palette = palette\n",
    "                       ,dashes=style\n",
    "                       ,linewidth = 2.0,\n",
    "                       markers = True\n",
    "                        )\n",
    "    ax4.set_title('ME (with State Transition)')\n",
    "    ax4.set(ylabel=None)\n",
    "    \n",
    "    ax5 = sns.lineplot(data=result_iid\n",
    "                         , x=x, y=\"DE_MSE\"\n",
    "                         , hue=\"estimand\" # group variable\n",
    "                       , style=\"estimand\" \n",
    "                        , ci = 95\n",
    "                        , err_style=\"bars\"\n",
    "                        , ax = ax5\n",
    "                        , n_boot = 20\n",
    "                        , palette = palette\n",
    "                       ,dashes=style\n",
    "                       ,linewidth = 2.0,\n",
    "                       markers = True\n",
    "                        )\n",
    "    ax5.axes.set_ylabel(\"logMSE\")\n",
    "\n",
    "\n",
    "    ax6 = sns.lineplot(data=result_iid\n",
    "                         , x=x, y=\"ME_MSE\"\n",
    "                         , hue=\"estimand\" # group variable\n",
    "                        , style=\"estimand\" \n",
    "                        , ci = 95\n",
    "                        , err_style=\"bars\"\n",
    "                        , ax = ax6\n",
    "                        , n_boot = 20\n",
    "                        , palette = palette\n",
    "                       ,dashes=style\n",
    "                       ,linewidth = 2.0,\n",
    "                       markers = True\n",
    "                        )\n",
    "    ax6.set(ylabel=None)\n",
    "    \n",
    "    \n",
    "    ax7 = sns.lineplot(data=result_w_state\n",
    "                         , x=x, y=\"DE_MSE\"\n",
    "                         , hue=\"estimand\" # group variable\n",
    "                       , style=\"estimand\" \n",
    "                        , ci = 95\n",
    "                        , err_style=\"bars\"\n",
    "                        , ax = ax7\n",
    "                        , n_boot = 20\n",
    "                        , palette = palette\n",
    "                       ,dashes=style\n",
    "                       ,linewidth = 2.0,\n",
    "                       markers = True\n",
    "                        )\n",
    "    ax7.set(ylabel=None)\n",
    "\n",
    "\n",
    "    ax8 = sns.lineplot(data=result_w_state\n",
    "                         , x=x, y=\"ME_MSE\"\n",
    "                         , hue=\"estimand\" # group variable\n",
    "                        , style=\"estimand\" \n",
    "                        , ci = 95\n",
    "                        , err_style=\"bars\"\n",
    "                        , ax = ax8\n",
    "                        , n_boot = 20\n",
    "                        , palette = palette\n",
    "                       ,dashes=style\n",
    "                       ,linewidth = 2.0,\n",
    "                       markers = True\n",
    "                        )\n",
    "    ax8.set(ylabel=None)\n",
    "\n",
    "    handles, labels = ax1.get_legend_handles_labels()\n",
    "    lgd = fig.legend(handles, labels, loc='lower center', ncol = len(labels)\n",
    "                           , bbox_to_anchor=(0.5, -0.1), bbox_transform=fig.transFigure,fontsize = 15)\n",
    "    ax1.get_legend().remove()\n",
    "    ax2.get_legend().remove()\n",
    "    ax3.get_legend().remove()\n",
    "    ax4.get_legend().remove()\n",
    "    ax5.get_legend().remove()\n",
    "    ax6.get_legend().remove()\n",
    "    ax7.get_legend().remove()\n",
    "    ax8.get_legend().remove()\n",
    "    plt.tight_layout()\n",
    "    plt.show()    \n",
    "    fig.savefig('toy_2', bbox_inches='tight')"
   ]
  },
  {
   "cell_type": "code",
   "execution_count": 14,
   "metadata": {},
   "outputs": [
    {
     "ename": "TypeError",
     "evalue": "plot() missing 1 required positional argument: 'result_w_state'",
     "output_type": "error",
     "traceback": [
      "\u001b[0;31m---------------------------------------------------------------------------\u001b[0m",
      "\u001b[0;31mTypeError\u001b[0m                                 Traceback (most recent call last)",
      "\u001b[0;32m/tmp/ipykernel_3732606/4167454365.py\u001b[0m in \u001b[0;36m<module>\u001b[0;34m\u001b[0m\n\u001b[1;32m      2\u001b[0m \u001b[0;32mimport\u001b[0m \u001b[0mnumpy\u001b[0m \u001b[0;32mas\u001b[0m \u001b[0mnp\u001b[0m\u001b[0;34m\u001b[0m\u001b[0;34m\u001b[0m\u001b[0m\n\u001b[1;32m      3\u001b[0m \u001b[0mresult\u001b[0m \u001b[0;34m=\u001b[0m \u001b[0msummary\u001b[0m\u001b[0;34m(\u001b[0m\u001b[0mError_iid\u001b[0m\u001b[0;34m,\u001b[0m \u001b[0mN_range\u001b[0m \u001b[0;34m=\u001b[0m \u001b[0mnp\u001b[0m\u001b[0;34m.\u001b[0m\u001b[0marange\u001b[0m\u001b[0;34m(\u001b[0m\u001b[0;36m1\u001b[0m\u001b[0;34m,\u001b[0m \u001b[0;36m8\u001b[0m\u001b[0;34m)\u001b[0m \u001b[0;34m*\u001b[0m \u001b[0;36m30\u001b[0m\u001b[0;34m,\u001b[0m \u001b[0mT_range\u001b[0m \u001b[0;34m=\u001b[0m \u001b[0;34m[\u001b[0m\u001b[0;36m50\u001b[0m\u001b[0;34m]\u001b[0m\u001b[0;34m,\u001b[0m \u001b[0mabsolute\u001b[0m \u001b[0;34m=\u001b[0m \u001b[0;32mFalse\u001b[0m\u001b[0;34m)\u001b[0m\u001b[0;34m\u001b[0m\u001b[0;34m\u001b[0m\u001b[0m\n\u001b[0;32m----> 4\u001b[0;31m \u001b[0mfig\u001b[0m \u001b[0;34m=\u001b[0m \u001b[0mplot\u001b[0m\u001b[0;34m(\u001b[0m\u001b[0mresult\u001b[0m\u001b[0;34m,\u001b[0m\u001b[0mx\u001b[0m\u001b[0;34m=\u001b[0m\u001b[0;34m'N'\u001b[0m\u001b[0;34m)\u001b[0m\u001b[0;34m\u001b[0m\u001b[0;34m\u001b[0m\u001b[0m\n\u001b[0m\u001b[1;32m      5\u001b[0m \u001b[0mresult\u001b[0m\u001b[0;34m.\u001b[0m\u001b[0mgroupby\u001b[0m\u001b[0;34m(\u001b[0m\u001b[0;34m[\u001b[0m\u001b[0;34m'N'\u001b[0m\u001b[0;34m,\u001b[0m\u001b[0;34m'estimand'\u001b[0m\u001b[0;34m]\u001b[0m\u001b[0;34m)\u001b[0m\u001b[0;34m.\u001b[0m\u001b[0mmean\u001b[0m\u001b[0;34m(\u001b[0m\u001b[0;34m)\u001b[0m\u001b[0;34m[\u001b[0m\u001b[0;34m[\u001b[0m\u001b[0;34m'DE_error'\u001b[0m\u001b[0;34m,\u001b[0m\u001b[0;34m'ME_error'\u001b[0m\u001b[0;34m,\u001b[0m\u001b[0;34m'SE_error'\u001b[0m\u001b[0;34m,\u001b[0m\u001b[0;34m'DE_MSE'\u001b[0m\u001b[0;34m,\u001b[0m\u001b[0;34m'ME_MSE'\u001b[0m\u001b[0;34m,\u001b[0m\u001b[0;34m'SE_MSE'\u001b[0m\u001b[0;34m]\u001b[0m\u001b[0;34m]\u001b[0m\u001b[0;34m\u001b[0m\u001b[0;34m\u001b[0m\u001b[0m\n",
      "\u001b[0;31mTypeError\u001b[0m: plot() missing 1 required positional argument: 'result_w_state'"
     ]
    }
   ],
   "source": [
    "from plot import summary\n",
    "import numpy as np\n",
    "result = summary(Error_iid, N_range = np.arange(1, 8) * 30, T_range = [50], absolute = False)\n",
    "fig = plot(result,x='N')\n",
    "result.groupby(['N','estimand']).mean()[['DE_error','ME_error','SE_error','DE_MSE','ME_MSE','SE_MSE']]\n"
   ]
  },
  {
   "cell_type": "code",
   "execution_count": null,
   "metadata": {},
   "outputs": [],
   "source": [
    "#from plot import plot, summary\n",
    "import numpy as np\n",
    "result = summary(Error_w_state, N_range = np.arange(1, 11) * 30, T_range = [50])\n",
    "fig = plot(result,x='N')\n",
    "result.groupby(['N','estimand']).mean()[['DE_error','ME_error','SE_error','DE_MSE','ME_MSE','SE_MSE']]\n"
   ]
  },
  {
   "cell_type": "code",
   "execution_count": 17,
   "metadata": {},
   "outputs": [
    {
     "ename": "NameError",
     "evalue": "name 'style' is not defined",
     "output_type": "error",
     "traceback": [
      "\u001b[0;31m---------------------------------------------------------------------------\u001b[0m",
      "\u001b[0;31mNameError\u001b[0m                                 Traceback (most recent call last)",
      "\u001b[0;32m/tmp/ipykernel_3732606/3759869956.py\u001b[0m in \u001b[0;36m<module>\u001b[0;34m\u001b[0m\n\u001b[1;32m      2\u001b[0m \u001b[0mresult_w_state\u001b[0m \u001b[0;34m=\u001b[0m \u001b[0msummary\u001b[0m\u001b[0;34m(\u001b[0m\u001b[0mError_w_state\u001b[0m\u001b[0;34m,\u001b[0m \u001b[0mN_range\u001b[0m \u001b[0;34m=\u001b[0m \u001b[0mnp\u001b[0m\u001b[0;34m.\u001b[0m\u001b[0marange\u001b[0m\u001b[0;34m(\u001b[0m\u001b[0;36m1\u001b[0m\u001b[0;34m,\u001b[0m \u001b[0;36m8\u001b[0m\u001b[0;34m)\u001b[0m \u001b[0;34m*\u001b[0m \u001b[0;36m30\u001b[0m\u001b[0;34m,\u001b[0m \u001b[0mT_range\u001b[0m \u001b[0;34m=\u001b[0m \u001b[0;34m[\u001b[0m\u001b[0;36m50\u001b[0m\u001b[0;34m]\u001b[0m\u001b[0;34m,\u001b[0m \u001b[0mabsolute\u001b[0m \u001b[0;34m=\u001b[0m \u001b[0;32mFalse\u001b[0m\u001b[0;34m)\u001b[0m\u001b[0;34m\u001b[0m\u001b[0;34m\u001b[0m\u001b[0m\n\u001b[1;32m      3\u001b[0m \u001b[0;34m\u001b[0m\u001b[0m\n\u001b[0;32m----> 4\u001b[0;31m \u001b[0mfig\u001b[0m \u001b[0;34m=\u001b[0m \u001b[0mplot\u001b[0m\u001b[0;34m(\u001b[0m\u001b[0mresult_iid\u001b[0m\u001b[0;34m,\u001b[0m\u001b[0mresult_w_state\u001b[0m\u001b[0;34m,\u001b[0m\u001b[0mx\u001b[0m\u001b[0;34m=\u001b[0m\u001b[0;34m'N'\u001b[0m\u001b[0;34m)\u001b[0m\u001b[0;34m\u001b[0m\u001b[0;34m\u001b[0m\u001b[0m\n\u001b[0m",
      "\u001b[0;32m/tmp/ipykernel_3732606/1826448279.py\u001b[0m in \u001b[0;36mplot\u001b[0;34m(result_iid, result_w_state, x)\u001b[0m\n\u001b[1;32m     20\u001b[0m                         \u001b[0;34m,\u001b[0m \u001b[0mn_boot\u001b[0m \u001b[0;34m=\u001b[0m \u001b[0;36m20\u001b[0m\u001b[0;34m\u001b[0m\u001b[0;34m\u001b[0m\u001b[0m\n\u001b[1;32m     21\u001b[0m                         \u001b[0;34m,\u001b[0m \u001b[0mpalette\u001b[0m \u001b[0;34m=\u001b[0m \u001b[0mpalette\u001b[0m\u001b[0;34m\u001b[0m\u001b[0;34m\u001b[0m\u001b[0m\n\u001b[0;32m---> 22\u001b[0;31m                        \u001b[0;34m,\u001b[0m\u001b[0mdashes\u001b[0m\u001b[0;34m=\u001b[0m\u001b[0mstyle\u001b[0m\u001b[0;34m\u001b[0m\u001b[0;34m\u001b[0m\u001b[0m\n\u001b[0m\u001b[1;32m     23\u001b[0m                        \u001b[0;34m,\u001b[0m\u001b[0mlinewidth\u001b[0m \u001b[0;34m=\u001b[0m \u001b[0;36m2.0\u001b[0m\u001b[0;34m,\u001b[0m\u001b[0;34m\u001b[0m\u001b[0;34m\u001b[0m\u001b[0m\n\u001b[1;32m     24\u001b[0m                        \u001b[0mmarkers\u001b[0m \u001b[0;34m=\u001b[0m \u001b[0;32mTrue\u001b[0m\u001b[0;34m\u001b[0m\u001b[0;34m\u001b[0m\u001b[0m\n",
      "\u001b[0;31mNameError\u001b[0m: name 'style' is not defined"
     ]
    },
    {
     "data": {
      "image/png": "[encoded data removed]",
      "text/plain": [
       "<Figure size 720x360 with 8 Axes>"
      ]
     },
     "metadata": {
      "needs_background": "light"
     },
     "output_type": "display_data"
    }
   ],
   "source": [
    "result_iid = summary(Error_iid, N_range = np.arange(1, 8) * 30, T_range = [50], absolute = False)\n",
    "result_w_state = summary(Error_w_state, N_range = np.arange(1, 8) * 30, T_range = [50], absolute = False)\n",
    "\n",
    "fig = plot(result_iid,result_w_state,x='N')"
   ]
  },
  {
   "cell_type": "code",
   "execution_count": null,
   "metadata": {},
   "outputs": [],
   "source": []
  },
  {
   "cell_type": "code",
   "execution_count": null,
   "metadata": {},
   "outputs": [],
   "source": []
  }
 ],
 "metadata": {
  "kernelspec": {
   "display_name": "Python 3 (ipykernel)",
   "language": "python",
   "name": "python3"
  },
  "language_info": {
   "codemirror_mode": {
    "name": "ipython",
    "version": 3
   },
   "file_extension": ".py",
   "mimetype": "text/x-python",
   "name": "python",
   "nbconvert_exporter": "python",
   "pygments_lexer": "ipython3",
   "version": "3.9.7"
  }
 },
 "nbformat": 4,
 "nbformat_minor": 4
}
